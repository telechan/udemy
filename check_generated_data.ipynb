{
 "cells": [
  {
   "cell_type": "code",
   "execution_count": 1,
   "metadata": {},
   "outputs": [],
   "source": [
    "from PIL import Image\n",
    "import os, glob\n",
    "import numpy as np\n",
    "from sklearn import model_selection\n",
    "\n",
    "classes = [\"monkey\", \"boar\", \"crow\"]\n",
    "num_classes = len(classes)\n",
    "image_size = 50\n",
    "\n",
    "# 画像の読み込み\n",
    "x = []\n",
    "y = []\n",
    "for index, classlabel in enumerate(classes):\n",
    "    photos_dir = \"./\" + classlabel\n",
    "    files = glob.glob(photos_dir + \"/*.jpg\")\n",
    "    for i, file in enumerate(files):\n",
    "        if i >= 200:\n",
    "            break\n",
    "        image = Image.open(file)\n",
    "        image = image.convert(\"RGB\")\n",
    "        image = image.resize((image_size, image_size))\n",
    "        data = np.asarray(image)\n",
    "        x.append(data)\n",
    "        y.append(index)\n",
    "\n",
    "x = np.array(x)\n",
    "y = np.array(y)\n",
    "\n",
    "x_train, x_test, y_train, y_test = model_selection.train_test_split(x, y)\n",
    "xy = (x_train, x_test, y_train, y_test)\n",
    "np.save(\"./animal.npy\", xy)\n",
    "\n"
   ]
  },
  {
   "cell_type": "code",
   "execution_count": 2,
   "metadata": {},
   "outputs": [
    {
     "data": {
      "text/plain": [
       "370"
      ]
     },
     "execution_count": 2,
     "metadata": {},
     "output_type": "execute_result"
    }
   ],
   "source": [
    "len(x_train)"
   ]
  },
  {
   "cell_type": "code",
   "execution_count": 3,
   "metadata": {},
   "outputs": [
    {
     "data": {
      "text/plain": [
       "124"
      ]
     },
     "execution_count": 3,
     "metadata": {},
     "output_type": "execute_result"
    }
   ],
   "source": [
    "len(x_test)"
   ]
  },
  {
   "cell_type": "code",
   "execution_count": 4,
   "metadata": {},
   "outputs": [
    {
     "data": {
      "text/plain": [
       "370"
      ]
     },
     "execution_count": 4,
     "metadata": {},
     "output_type": "execute_result"
    }
   ],
   "source": [
    "len(y_train)"
   ]
  },
  {
   "cell_type": "code",
   "execution_count": 5,
   "metadata": {},
   "outputs": [
    {
     "data": {
      "text/plain": [
       "124"
      ]
     },
     "execution_count": 5,
     "metadata": {},
     "output_type": "execute_result"
    }
   ],
   "source": [
    "len(y_test)"
   ]
  },
  {
   "cell_type": "code",
   "execution_count": 6,
   "metadata": {},
   "outputs": [
    {
     "data": {
      "text/plain": [
       "array([[[ 52,  46,  34],\n",
       "        [ 59,  50,  33],\n",
       "        [ 65,  54,  34],\n",
       "        ...,\n",
       "        [133, 118,  89],\n",
       "        [139, 125,  90],\n",
       "        [143, 130,  88]],\n",
       "\n",
       "       [[ 42,  36,  24],\n",
       "        [ 56,  47,  30],\n",
       "        [ 65,  54,  34],\n",
       "        ...,\n",
       "        [108,  97,  75],\n",
       "        [116, 109,  80],\n",
       "        [126, 120,  86]],\n",
       "\n",
       "       [[ 43,  37,  25],\n",
       "        [ 59,  52,  36],\n",
       "        [ 68,  60,  41],\n",
       "        ...,\n",
       "        [ 87,  84,  65],\n",
       "        [109, 103,  77],\n",
       "        [137, 131,  97]],\n",
       "\n",
       "       ...,\n",
       "\n",
       "       [[ 16,  12,  11],\n",
       "        [ 17,  16,  12],\n",
       "        [ 16,  17,  11],\n",
       "        ...,\n",
       "        [ 54,  57,  48],\n",
       "        [ 38,  38,  30],\n",
       "        [ 34,  33,  29]],\n",
       "\n",
       "       [[ 13,  12,   8],\n",
       "        [ 16,  15,  10],\n",
       "        [ 17,  17,   9],\n",
       "        ...,\n",
       "        [ 50,  50,  38],\n",
       "        [ 40,  41,  33],\n",
       "        [ 34,  35,  27]],\n",
       "\n",
       "       [[ 16,  15,  11],\n",
       "        [ 16,  15,  10],\n",
       "        [ 21,  21,  13],\n",
       "        ...,\n",
       "        [ 46,  46,  36],\n",
       "        [ 41,  42,  34],\n",
       "        [ 33,  34,  26]]], dtype=uint8)"
      ]
     },
     "execution_count": 6,
     "metadata": {},
     "output_type": "execute_result"
    }
   ],
   "source": [
    "x_train[100]"
   ]
  },
  {
   "cell_type": "code",
   "execution_count": 7,
   "metadata": {},
   "outputs": [
    {
     "data": {
      "text/plain": [
       "2"
      ]
     },
     "execution_count": 7,
     "metadata": {},
     "output_type": "execute_result"
    }
   ],
   "source": [
    "y_train[100]"
   ]
  },
  {
   "cell_type": "code",
   "execution_count": null,
   "metadata": {},
   "outputs": [],
   "source": []
  }
 ],
 "metadata": {
  "kernelspec": {
   "display_name": "Python 3",
   "language": "python",
   "name": "python3"
  },
  "language_info": {
   "codemirror_mode": {
    "name": "ipython",
    "version": 3
   },
   "file_extension": ".py",
   "mimetype": "text/x-python",
   "name": "python",
   "nbconvert_exporter": "python",
   "pygments_lexer": "ipython3",
   "version": "3.7.1"
  }
 },
 "nbformat": 4,
 "nbformat_minor": 2
}
