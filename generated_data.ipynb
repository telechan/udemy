{
 "cells": [
  {
   "cell_type": "code",
   "execution_count": 2,
   "metadata": {},
   "outputs": [],
   "source": [
    "from PIL import Image\n",
    "import os, glob\n",
    "import numpy as np\n",
    "from sklearn import model_selection\n",
    "\n",
    "classes = [\"monkey\", \"boar\", \"crow\"]\n",
    "num_classes = len(classes)\n",
    "image_size = 50\n",
    "\n",
    "# 画像の読み込み\n",
    "x = []\n",
    "y = []\n",
    "for index, classlabel in enumerate(classes):\n",
    "    photos_dir = \"./\" + classlabel\n",
    "    files = glob.glob(photos_dir + \"/*.jpg\")\n",
    "    for i, file in enumerate(files):\n",
    "        if i >= 200:\n",
    "            break\n",
    "        image = Image.open(file)\n",
    "        image = image.convert(\"RGB\")\n",
    "        image = image.resize((image_size, image_size))\n",
    "        data = np.asarray(image)\n",
    "        x.append(data)\n",
    "        y.append(index)\n",
    "\n",
    "x = np.array(x)\n",
    "y = np.array(y)\n",
    "\n",
    "x_train, x_test, y_train, y_test = model_selection.train_test_split(x, y)\n",
    "xy = (x_train, x_test, y_train, y_test)\n",
    "np.save(\"./animal.npy\", xy)\n"
   ]
  },
  {
   "cell_type": "code",
   "execution_count": 3,
   "metadata": {},
   "outputs": [
    {
     "data": {
      "text/plain": [
       "array([[[ 11,  29,   5],\n",
       "        [ 26,  46,  19],\n",
       "        [ 21,  47,   8],\n",
       "        ...,\n",
       "        [  2,   4,   1],\n",
       "        [111, 126,  69],\n",
       "        [ 22,  42,  14]],\n",
       "\n",
       "       [[ 41,  71,  17],\n",
       "        [ 19,  20,  12],\n",
       "        [ 13,  36,  10],\n",
       "        ...,\n",
       "        [  3,   9,   0],\n",
       "        [ 84, 119,  55],\n",
       "        [ 64,  83,  37]],\n",
       "\n",
       "       [[ 21,  33,  13],\n",
       "        [ 49,  82,  37],\n",
       "        [ 23,  21,   9],\n",
       "        ...,\n",
       "        [ 18,  28,   3],\n",
       "        [ 11,  28,  10],\n",
       "        [ 47,  39,  16]],\n",
       "\n",
       "       ...,\n",
       "\n",
       "       [[211, 196, 203],\n",
       "        [216, 200, 210],\n",
       "        [231, 216, 221],\n",
       "        ...,\n",
       "        [244, 238, 242],\n",
       "        [251, 242, 247],\n",
       "        [245, 236, 241]],\n",
       "\n",
       "       [[217, 200, 206],\n",
       "        [224, 209, 214],\n",
       "        [220, 201, 207],\n",
       "        ...,\n",
       "        [248, 237, 241],\n",
       "        [253, 242, 248],\n",
       "        [251, 240, 244]],\n",
       "\n",
       "       [[248, 236, 238],\n",
       "        [252, 242, 243],\n",
       "        [247, 235, 237],\n",
       "        ...,\n",
       "        [252, 241, 247],\n",
       "        [249, 238, 244],\n",
       "        [250, 239, 247]]], dtype=uint8)"
      ]
     },
     "execution_count": 3,
     "metadata": {},
     "output_type": "execute_result"
    }
   ],
   "source": [
    "x[0]"
   ]
  },
  {
   "cell_type": "code",
   "execution_count": 4,
   "metadata": {},
   "outputs": [
    {
     "data": {
      "text/plain": [
       "494"
      ]
     },
     "execution_count": 4,
     "metadata": {},
     "output_type": "execute_result"
    }
   ],
   "source": [
    "len(x)"
   ]
  },
  {
   "cell_type": "code",
   "execution_count": 8,
   "metadata": {},
   "outputs": [
    {
     "data": {
      "text/plain": [
       "1"
      ]
     },
     "execution_count": 8,
     "metadata": {},
     "output_type": "execute_result"
    }
   ],
   "source": [
    "y[200]"
   ]
  },
  {
   "cell_type": "code",
   "execution_count": 6,
   "metadata": {},
   "outputs": [
    {
     "data": {
      "text/plain": [
       "494"
      ]
     },
     "execution_count": 6,
     "metadata": {},
     "output_type": "execute_result"
    }
   ],
   "source": [
    "len(y)"
   ]
  },
  {
   "cell_type": "code",
   "execution_count": null,
   "metadata": {},
   "outputs": [],
   "source": []
  }
 ],
 "metadata": {
  "kernelspec": {
   "display_name": "Python 3",
   "language": "python",
   "name": "python3"
  },
  "language_info": {
   "codemirror_mode": {
    "name": "ipython",
    "version": 3
   },
   "file_extension": ".py",
   "mimetype": "text/x-python",
   "name": "python",
   "nbconvert_exporter": "python",
   "pygments_lexer": "ipython3",
   "version": "3.7.1"
  }
 },
 "nbformat": 4,
 "nbformat_minor": 2
}
